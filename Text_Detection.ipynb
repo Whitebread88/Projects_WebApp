{
 "cells": [
  {
   "cell_type": "code",
   "execution_count": 17,
   "id": "1780e7f3-6848-4484-87ed-4cc4882b87ce",
   "metadata": {},
   "outputs": [],
   "source": [
    "# Import required packages\n",
    "from PIL import Image\n",
    "import cv2\n",
    "from pytesseract import pytesseract"
   ]
  },
  {
   "cell_type": "code",
   "execution_count": 12,
   "id": "8b5400b4-4c6b-4a25-9709-4a22cec5f36f",
   "metadata": {},
   "outputs": [],
   "source": [
    "image = Image.open('test.png')\n",
    "image = image.resize((400,200))\n",
    "image.save('sample.png')"
   ]
  },
  {
   "cell_type": "code",
   "execution_count": 15,
   "id": "11d13a29-fbd3-4541-ad55-c37db7fad78a",
   "metadata": {},
   "outputs": [],
   "source": [
    "path_to_tesseract = r\"C:\\Program Files\\Tesseract-OCR\\tesseract.exe\"\n",
    "pytesseract.tesseract_cmd = path_to_tesseract"
   ]
  },
  {
   "cell_type": "code",
   "execution_count": 16,
   "id": "13eaadbb-1ef8-4eb5-87eb-6fdba222a3a0",
   "metadata": {},
   "outputs": [
    {
     "name": "stdout",
     "output_type": "stream",
     "text": [
      "Times New Roman\n",
      "\n",
      "Times New Roman Italic\n",
      "Times New Roman Bold\n",
      "Times New Roman Bold Italic\n"
     ]
    }
   ],
   "source": [
    "text = pytesseract.image_to_string(image)\n",
    "#print the text line by line\n",
    "print(text[:-1])"
   ]
  },
  {
   "cell_type": "code",
   "execution_count": 18,
   "id": "4e86ddc3-047d-4d96-8580-dac84f55c3dc",
   "metadata": {},
   "outputs": [],
   "source": [
    "img = cv2.imread(\"color.png\")"
   ]
  },
  {
   "cell_type": "code",
   "execution_count": 19,
   "id": "c009f4db-dc16-4b9b-9b05-bbc7efc8853e",
   "metadata": {},
   "outputs": [],
   "source": [
    "gray = cv2.cvtColor(img, cv2.COLOR_BGR2GRAY)"
   ]
  },
  {
   "cell_type": "code",
   "execution_count": 20,
   "id": "3f66ca5f-89ac-460e-85b1-cfcac5f247ea",
   "metadata": {},
   "outputs": [
    {
     "data": {
      "text/plain": [
       "True"
      ]
     },
     "execution_count": 20,
     "metadata": {},
     "output_type": "execute_result"
    }
   ],
   "source": [
    "ret, thresh1 = cv2.threshold(gray, 0, 255, cv2.THRESH_OTSU |\n",
    "                                          cv2.THRESH_BINARY_INV)\n",
    "cv2.imwrite('threshold_image.jpg',thresh1)"
   ]
  },
  {
   "cell_type": "code",
   "execution_count": 21,
   "id": "c4e6fccb-14c8-4546-97b0-35c3df29114b",
   "metadata": {},
   "outputs": [],
   "source": [
    "rect_kernel = cv2.getStructuringElement(cv2.MORPH_RECT, (12, 12))"
   ]
  },
  {
   "cell_type": "code",
   "execution_count": 32,
   "id": "fad8dbc3-ef18-4c5b-926e-e12715ca4d48",
   "metadata": {},
   "outputs": [
    {
     "data": {
      "text/plain": [
       "True"
      ]
     },
     "execution_count": 32,
     "metadata": {},
     "output_type": "execute_result"
    }
   ],
   "source": [
    "dilation = cv2.dilate(thresh1, rect_kernel, iterations = 5)"
   ]
  },
  {
   "cell_type": "code",
   "execution_count": 33,
   "id": "817caed1-1fdc-46cd-9c48-2539de02224a",
   "metadata": {},
   "outputs": [],
   "source": [
    "contours, hierarchy = cv2.findContours(dilation, cv2.RETR_EXTERNAL,\n",
    "                                            cv2.CHAIN_APPROX_NONE)"
   ]
  },
  {
   "cell_type": "code",
   "execution_count": 34,
   "id": "2605f4b1-467e-4ed5-9b05-353df17db5f7",
   "metadata": {},
   "outputs": [],
   "source": [
    "im2 = img.copy()"
   ]
  },
  {
   "cell_type": "code",
   "execution_count": 36,
   "id": "d124ac1c-4908-415f-b207-d6a1ce52df05",
   "metadata": {},
   "outputs": [],
   "source": [
    "for cnt in contours:\n",
    "    x, y, w, h = cv2.boundingRect(cnt)\n",
    "     \n",
    "    # Draw the bounding box on the text area\n",
    "    rect=cv2.rectangle(im2, (x, y), (x + w, y + h), (0, 255, 0), 2)\n",
    "     \n",
    "    # Crop the bounding box area\n",
    "    cropped = im2[y:y + h, x:x + w]\n",
    "     \n",
    "    # open the text file\n",
    "    file = open(\"Text.txt\", \"a\")\n",
    "     \n",
    "    # Using tesseract on the cropped image area to get text\n",
    "    text = pytesseract.image_to_string(cropped)\n",
    "     \n",
    "    # Adding the text to the file\n",
    "    file.write(text)\n",
    "    file.write(\"\\n\")\n",
    "     \n",
    "    # Closing the file\n",
    "    file.close"
   ]
  },
  {
   "cell_type": "code",
   "execution_count": 26,
   "id": "84b69bcc-4f37-492f-98b6-dcd7a6c2d6a8",
   "metadata": {},
   "outputs": [],
   "source": []
  },
  {
   "cell_type": "code",
   "execution_count": null,
   "id": "43a6274b-e93b-4b22-8ead-703bb6154126",
   "metadata": {},
   "outputs": [],
   "source": []
  },
  {
   "cell_type": "code",
   "execution_count": null,
   "id": "94dd1a8b-0dbb-4685-a1fc-e201085625f5",
   "metadata": {},
   "outputs": [],
   "source": []
  }
 ],
 "metadata": {
  "kernelspec": {
   "display_name": "Python 3 (ipykernel)",
   "language": "python",
   "name": "python3"
  },
  "language_info": {
   "codemirror_mode": {
    "name": "ipython",
    "version": 3
   },
   "file_extension": ".py",
   "mimetype": "text/x-python",
   "name": "python",
   "nbconvert_exporter": "python",
   "pygments_lexer": "ipython3",
   "version": "3.8.8"
  }
 },
 "nbformat": 4,
 "nbformat_minor": 5
}
